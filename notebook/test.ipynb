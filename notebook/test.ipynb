{
 "cells": [
  {
   "cell_type": "markdown",
   "metadata": {},
   "source": [
    "# for testing codes"
   ]
  },
  {
   "cell_type": "code",
   "execution_count": 2,
   "metadata": {},
   "outputs": [],
   "source": [
    "import os\n",
    "import csv \n",
    "import yaml\n",
    "import pandas as pd\n",
    "import numpy as np\n",
    "import torch"
   ]
  },
  {
   "cell_type": "code",
   "execution_count": 3,
   "metadata": {},
   "outputs": [],
   "source": [
    "with open('../config/filepath.yml', 'r') as f:\n",
    "    path_config = yaml.safe_load(f)\n",
    "\n",
    "dude_dir = os.path.join('..', path_config['data']['DUD-E'])\n",
    "alphafold_dir = os.path.join('..', path_config['data']['alphafold'])\n",
    "smiles_dir = os.path.join('..', path_config['data']['smiles'])\n",
    "output_dir = os.path.join('..', path_config['data']['output'])\n",
    "hist_dir = os.path.join('..', path_config['data']['hist'])\n",
    "preprocessed_dir = os.path.join('..', path_config['data']['preprocessed'])\n",
    "model_dir = os.path.join('..', path_config['data']['docking'])"
   ]
  },
  {
   "cell_type": "code",
   "execution_count": 8,
   "metadata": {},
   "outputs": [
    {
     "name": "stderr",
     "output_type": "stream",
     "text": [
      "huggingface/tokenizers: The current process just got forked, after parallelism has already been used. Disabling parallelism to avoid deadlocks...\n",
      "To disable this warning, you can either:\n",
      "\t- Avoid using `tokenizers` before the fork if possible\n",
      "\t- Explicitly set the environment variable TOKENIZERS_PARALLELISM=(true | false)\n",
      "Some weights of RobertaModel were not initialized from the model checkpoint at DeepChem/ChemBERTa-77M-MLM and are newly initialized: ['roberta.pooler.dense.bias', 'roberta.pooler.dense.weight']\n",
      "You should probably TRAIN this model on a down-stream task to be able to use it for predictions and inference.\n"
     ]
    },
    {
     "name": "stdout",
     "output_type": "stream",
     "text": [
      "SMILES_len = 181\n",
      "torch.Size([3, 97, 384])\n",
      "torch.Size([3, 97])\n"
     ]
    }
   ],
   "source": [
    "from transformers import AutoTokenizer, AutoModel\n",
    "tokenizer = AutoTokenizer.from_pretrained(\"DeepChem/ChemBERTa-77M-MLM\")\n",
    "model = AutoModel.from_pretrained(\"DeepChem/ChemBERTa-77M-MLM\")  \n",
    "\n",
    "device = torch.device(\"cuda\" if torch.cuda.is_available() else \"cpu\")\n",
    "model = model.to(device)\n",
    "\n",
    "def smiles_to_token_embeddings(smiles_list):\n",
    "    \"\"\"\n",
    "    SMILES のトークンごとの埋め込みを取得する関数。\n",
    "\n",
    "    Parameters:\n",
    "    - smiles_list: list of str\n",
    "        SMILES のリスト\n",
    "\n",
    "    Returns:\n",
    "    - token_embeddings: torch.Tensor\n",
    "        各トークンの埋め込み (Shape: (batch_size, seq_len, hidden_size))\n",
    "    - attention_mask: torch.Tensor\n",
    "        アテンションマスク (Shape: (batch_size, seq_len))\n",
    "    \"\"\"\n",
    "    # トークナイズ\n",
    "    encoded_inputs = tokenizer(smiles_list, padding=True, truncation=True, return_tensors=\"pt\")\n",
    "    \n",
    "    # デバイスに転送\n",
    "    input_ids = encoded_inputs[\"input_ids\"].to(device)\n",
    "    attention_mask = encoded_inputs[\"attention_mask\"].to(device)\n",
    "    \n",
    "    # モデルに入力\n",
    "    with torch.no_grad():\n",
    "        outputs = model(input_ids, attention_mask=attention_mask)\n",
    "    \n",
    "    # トークンごとの埋め込みを取得\n",
    "    token_embeddings = outputs.last_hidden_state  # Shape: (batch_size, seq_len, hidden_size)\n",
    "    \n",
    "    return token_embeddings, attention_mask\n",
    "\n",
    "# 使用例\n",
    "smiles = [\"C[C@@H]1C[C@@H]([C@@H]([C@@H](O1)O[C@@H](C(C)C)[C@@H](C)[C@@H]([C@@H](C)C(=O)O[C@H](C)[C@H](C)[C@@H]([C@@H](C)C(=O)[C@@]2(CO2)C)O)O[C@@H]3C[C@@H]([C@@H]([C@@H](O3)C)O)OC)O)[NH+](C)C\", \"CCN\", \"CCC\"]  # SMILES 文字列のリスト\n",
    "token_embeddings, attention_mask = smiles_to_token_embeddings(smiles)\n",
    "\n",
    "print(f\"SMILES_len = {len(smiles[0])}\")\n",
    "print(token_embeddings.shape)  # (batch_size, seq_len, hidden_size)\n",
    "print(attention_mask.shape)    # (batch_size, seq_len)\n"
   ]
  },
  {
   "cell_type": "code",
   "execution_count": 8,
   "metadata": {},
   "outputs": [
    {
     "ename": "NameError",
     "evalue": "name '__file__' is not defined",
     "output_type": "error",
     "traceback": [
      "\u001b[0;31m---------------------------------------------------------------------------\u001b[0m",
      "\u001b[0;31mNameError\u001b[0m                                 Traceback (most recent call last)",
      "Cell \u001b[0;32mIn[8], line 3\u001b[0m\n\u001b[1;32m      1\u001b[0m \u001b[38;5;28;01mimport\u001b[39;00m \u001b[38;5;21;01msys\u001b[39;00m\n\u001b[1;32m      2\u001b[0m \u001b[38;5;28;01mimport\u001b[39;00m \u001b[38;5;21;01mos\u001b[39;00m\n\u001b[0;32m----> 3\u001b[0m sys\u001b[38;5;241m.\u001b[39mpath\u001b[38;5;241m.\u001b[39mappend(os\u001b[38;5;241m.\u001b[39mpath\u001b[38;5;241m.\u001b[39mjoin(os\u001b[38;5;241m.\u001b[39mpath\u001b[38;5;241m.\u001b[39mdirname(\u001b[38;5;18;43m__file__\u001b[39;49m), \u001b[38;5;124m'\u001b[39m\u001b[38;5;124m../src\u001b[39m\u001b[38;5;124m'\u001b[39m))\n\u001b[1;32m      4\u001b[0m sys\u001b[38;5;241m.\u001b[39mpath\u001b[38;5;241m.\u001b[39mappend(os\u001b[38;5;241m.\u001b[39mpath\u001b[38;5;241m.\u001b[39mjoin(os\u001b[38;5;241m.\u001b[39mpath\u001b[38;5;241m.\u001b[39mdirname(\u001b[38;5;18m__file__\u001b[39m), \u001b[38;5;124m'\u001b[39m\u001b[38;5;124m../scripts\u001b[39m\u001b[38;5;124m'\u001b[39m))\n\u001b[1;32m      5\u001b[0m \u001b[38;5;28;01mfrom\u001b[39;00m \u001b[38;5;21;01mscripts\u001b[39;00m\u001b[38;5;21;01m.\u001b[39;00m\u001b[38;5;21;01mutils\u001b[39;00m \u001b[38;5;28;01mimport\u001b[39;00m load_config\n",
      "\u001b[0;31mNameError\u001b[0m: name '__file__' is not defined"
     ]
    }
   ],
   "source": [
    "import sys\n",
    "import os\n",
    "sys.path.append(os.path.join(os.path.dirname(__file__), '../src'))\n",
    "sys.path.append(os.path.join(os.path.dirname(__file__), '../scripts'))\n",
    "from scripts.utils import load_config\n",
    "from torch.utils.data import DataLoader\n",
    "from src.dataset import SmilesProteinDataset"
   ]
  },
  {
   "cell_type": "markdown",
   "metadata": {},
   "source": []
  },
  {
   "cell_type": "code",
   "execution_count": null,
   "metadata": {},
   "outputs": [],
   "source": [
    "from src.score_prediction_models import "
   ]
  }
 ],
 "metadata": {
  "kernelspec": {
   "display_name": "atcvae",
   "language": "python",
   "name": "python3"
  },
  "language_info": {
   "codemirror_mode": {
    "name": "ipython",
    "version": 3
   },
   "file_extension": ".py",
   "mimetype": "text/x-python",
   "name": "python",
   "nbconvert_exporter": "python",
   "pygments_lexer": "ipython3",
   "version": "3.10.15"
  }
 },
 "nbformat": 4,
 "nbformat_minor": 2
}
