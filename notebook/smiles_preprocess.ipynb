{
 "cells": [
  {
   "cell_type": "code",
   "execution_count": 23,
   "metadata": {},
   "outputs": [],
   "source": [
    "from rdkit import Chem\n",
    "from rdkit.Chem import AllChem\n",
    "from rdkit.Chem import Draw\n",
    "from rdkit.Chem import Descriptors\n",
    "import pandas as pd\n",
    "import numpy as np\n",
    "import torch\n",
    "import os\n",
    "import yaml\n",
    "from tqdm.notebook import tqdm\n"
   ]
  },
  {
   "cell_type": "code",
   "execution_count": 33,
   "metadata": {},
   "outputs": [],
   "source": [
    "with open('../config/filepath.yml', 'r') as f:\n",
    "    path_config = yaml.safe_load(f)\n",
    "\n",
    "dude_dir = os.path.join('..', path_config['data']['DUD-E'])\n",
    "alphafold_dir = os.path.join('..', path_config['data']['alphafold'])\n",
    "smiles_dir = os.path.join('..', path_config['data']['smiles'])\n",
    "output_dir = os.path.join('..', path_config['data']['output'])\n",
    "hist_dir = os.path.join('..', path_config['data']['hist'])\n",
    "preprocessed_dir = os.path.join('..', path_config['data']['preprocessed'])\n",
    "sample_dir = os.path.join('..', path_config['data']['samples'])\n",
    "test_dir = os.path.join('..', path_config['data']['test'])"
   ]
  },
  {
   "cell_type": "markdown",
   "metadata": {},
   "source": [
    "# filter smiles\n",
    "生成モデルの事前学習に使うためのリガンドファイルを用意するためのスクリプト\n",
    "### read smiles from tsv"
   ]
  },
  {
   "cell_type": "code",
   "execution_count": 8,
   "metadata": {},
   "outputs": [
    {
     "name": "stdout",
     "output_type": "stream",
     "text": [
      "      chembl_id                                   canonical_smiles  \\\n",
      "0  CHEMBL153534                       Cc1cc(-c2csc(N=C(N)N)n2)cn1C   \n",
      "1  CHEMBL440060  CC[C@H](C)[C@H](NC(=O)[C@H](CC(C)C)NC(=O)[C@@H...   \n",
      "2  CHEMBL440245  CCCC[C@@H]1NC(=O)[C@@H](NC(=O)[C@H](CC(C)C)NC(...   \n",
      "3  CHEMBL440249  CC(C)C[C@@H]1NC(=O)CNC(=O)[C@H](c2ccc(O)cc2)NC...   \n",
      "4  CHEMBL405398             Brc1cccc(Nc2ncnc3ccncc23)c1NCCN1CCOCC1   \n",
      "\n",
      "                                      standard_inchi  \\\n",
      "0  InChI=1S/C10H13N5S/c1-6-3-7(4-15(6)2)8-5-16-10...   \n",
      "1  InChI=1S/C123H212N44O34S/c1-19-63(12)96(164-11...   \n",
      "2  InChI=1S/C160H268N50O41/c1-23-27-41-95-134(228...   \n",
      "3  InChI=1S/C124H154ClN21O39/c1-57(2)48-81-112(17...   \n",
      "4  InChI=1S/C19H21BrN6O/c20-15-2-1-3-17(18(15)22-...   \n",
      "\n",
      "            standard_inchi_key  \n",
      "0  MFRNFCWYPYSFQQ-UHFFFAOYSA-N  \n",
      "1  RSEQNZQKBMRQNM-VRGFNVLHSA-N  \n",
      "2  FTKBTEIKPOYCEX-OZSLQWTKSA-N  \n",
      "3  UYSXXKGACMHPIM-KFGDMSGDSA-N  \n",
      "4  VDSXZXJEWIWBCG-UHFFFAOYSA-N  \n",
      "(2474590, 4)\n"
     ]
    }
   ],
   "source": [
    "smiles_file = os.path.join(smiles_dir, 'chembl_35.tsv')\n",
    "\n",
    "smiles_df = pd.read_csv(smiles_file, sep='\\t')\n",
    "\n",
    "print(smiles_df.head())\n",
    "print(smiles_df.shape)"
   ]
  },
  {
   "cell_type": "markdown",
   "metadata": {},
   "source": [
    "### preprocess and filter smiles \n",
    "やること\n",
    "1. 複合体の場合、最も分子量の大きいものを対象リガンドとして扱う\n",
    "2. リピンスキーの法則にならって分子量 600 以上の化合物をフィルター\n",
    "3. 重複を排除"
   ]
  },
  {
   "cell_type": "code",
   "execution_count": 26,
   "metadata": {},
   "outputs": [],
   "source": [
    "def extract_higher_MW(s_list: list) -> list:\n",
    "    out = []\n",
    "    for s in s_list:\n",
    "        smis = s.split('.')\n",
    "        mols = []\n",
    "        for smi in smis:\n",
    "            mol = Chem.MolFromSmiles(smi)\n",
    "            if mol is not None:\n",
    "                mols.append(mol)\n",
    "\n",
    "        if len(mols) == 0:\n",
    "            continue\n",
    "\n",
    "        Mws = [Descriptors.MolWt(mol) for mol in mols]\n",
    "        max_Mw_idx = Mws.index(max(Mws))\n",
    "\n",
    "        # 分子量600以上のものを排除\n",
    "        if Mws[max_Mw_idx] > 600:\n",
    "            continue\n",
    "        \n",
    "        out.append(Chem.MolToSmiles(mols[max_Mw_idx]))\n",
    "    return out\n",
    "\n",
    "def remove_dup(smis: list) -> list:\n",
    "    smis = [Chem.MolToSmiles(Chem.MolFromSmiles(smi)) for smi in smis]\n",
    "    smis = list(set(smis))\n",
    "    return smis\n",
    "\n",
    "def process_and_filter_smiles(df: pd.DataFrame, smiles_col: str) -> pd.DataFrame:\n",
    "    tqdm.pandas(desc=\"Processing SMILES\")\n",
    "\n",
    "    # smiles列を処理し、有効な結果のみを保持\n",
    "    def process_smiles(smiles):\n",
    "        processed = remove_dup(extract_higher_MW([smiles]))\n",
    "        return \".\".join(processed) if processed else None\n",
    "\n",
    "    df[smiles_col] = df[smiles_col].progress_apply(process_smiles)\n",
    "    \n",
    "    # smiles列がNoneまたは空の行を削除\n",
    "    df = df[df[smiles_col].notna() & (df[smiles_col] != \"\")]\n",
    "    \n",
    "    return df"
   ]
  },
  {
   "cell_type": "code",
   "execution_count": 27,
   "metadata": {},
   "outputs": [
    {
     "data": {
      "application/vnd.jupyter.widget-view+json": {
       "model_id": "28637a65778a428486587961a90be1a4",
       "version_major": 2,
       "version_minor": 0
      },
      "text/plain": [
       "Processing SMILES:   0%|          | 0/2474590 [00:00<?, ?it/s]"
      ]
     },
     "metadata": {},
     "output_type": "display_data"
    },
    {
     "name": "stderr",
     "output_type": "stream",
     "text": [
      "[16:53:25] Can't kekulize mol.  Unkekulized atoms: 30 31 32 33 34 35 36 37 38 39 40 41 42 43 44 45 46 47 48 49 50 51 52 53 54 55 56 57 58 59 60 61 62 63 64 65 66 67 68 69 70 71 72 73 74 75 76 77\n",
      "[16:53:34] Explicit valence for atom # 1 P, 7, is greater than permitted\n",
      "[16:53:36] Explicit valence for atom # 1 P, 7, is greater than permitted\n",
      "[16:53:37] Explicit valence for atom # 1 P, 7, is greater than permitted\n",
      "[16:54:54] Can't kekulize mol.  Unkekulized atoms: 30 31 32 33 34 35 36 37 38 39 40 41 42 43 44 45 46 47 48 49 50 51 52 53 54 55 56 57 58 59 60 61 62 63 64 65 66 67 68 69 70 71 72 73 74 75 76 77\n",
      "[16:56:23] WARNING: not removing hydrogen atom without neighbors\n",
      "[16:57:09] Explicit valence for atom # 1 P, 7, is greater than permitted\n",
      "[16:57:09] Explicit valence for atom # 1 P, 7, is greater than permitted\n",
      "[16:57:09] Explicit valence for atom # 1 P, 7, is greater than permitted\n",
      "[16:57:12] Explicit valence for atom # 1 P, 7, is greater than permitted\n",
      "[16:57:22] WARNING: not removing hydrogen atom without neighbors\n",
      "[16:57:22] WARNING: not removing hydrogen atom without neighbors\n",
      "[16:58:05] Explicit valence for atom # 1 P, 7, is greater than permitted\n",
      "[16:58:05] Explicit valence for atom # 1 P, 7, is greater than permitted\n",
      "[16:58:07] Explicit valence for atom # 1 P, 7, is greater than permitted\n",
      "[16:59:58] WARNING: not removing hydrogen atom without neighbors\n",
      "[17:00:50] WARNING: not removing hydrogen atom without neighbors\n",
      "[17:00:56] WARNING: not removing hydrogen atom without neighbors\n",
      "[17:01:00] WARNING: not removing hydrogen atom without neighbors\n",
      "[17:02:25] WARNING: not removing hydrogen atom without neighbors\n",
      "[17:02:25] WARNING: not removing hydrogen atom without neighbors\n",
      "[17:02:25] WARNING: not removing hydrogen atom without neighbors\n",
      "[17:02:33] Can't kekulize mol.  Unkekulized atoms: 1 2 3 4 5 6 10 11 15 16 17 19 20 21\n",
      "[17:02:57] Explicit valence for atom # 1 As, 7, is greater than permitted\n",
      "[17:02:57] WARNING: not removing hydrogen atom without neighbors\n",
      "[17:02:57] WARNING: not removing hydrogen atom without neighbors\n",
      "[17:02:57] WARNING: not removing hydrogen atom without neighbors\n",
      "[17:02:57] WARNING: not removing hydrogen atom without neighbors\n",
      "[17:02:57] Explicit valence for atom # 1 P, 7, is greater than permitted\n",
      "[17:02:57] Explicit valence for atom # 1 P, 7, is greater than permitted\n"
     ]
    }
   ],
   "source": [
    "filtered_df = process_and_filter_smiles(smiles_df, 'canonical_smiles')"
   ]
  },
  {
   "cell_type": "code",
   "execution_count": 32,
   "metadata": {},
   "outputs": [
    {
     "name": "stdout",
     "output_type": "stream",
     "text": [
      "      chembl_id                                   canonical_smiles  \\\n",
      "0  CHEMBL153534                       Cc1cc(-c2csc(N=C(N)N)n2)cn1C   \n",
      "4  CHEMBL405398             Brc1cccc(Nc2ncnc3ccncc23)c1NCCN1CCOCC1   \n",
      "5  CHEMBL503634               COc1c(O)cc(O)c(C(=N)Cc2ccc(O)cc2)c1O   \n",
      "6  CHEMBL503643                   CCOC(=O)c1cc2cc(C(=O)O)ccc2[nH]1   \n",
      "7  CHEMBL503865  CC(=O)O[C@@H]1[C@@H](OC(C)=O)/C(C)=C\\[C@@H]2OC...   \n",
      "\n",
      "                                      standard_inchi  \\\n",
      "0  InChI=1S/C10H13N5S/c1-6-3-7(4-15(6)2)8-5-16-10...   \n",
      "4  InChI=1S/C19H21BrN6O/c20-15-2-1-3-17(18(15)22-...   \n",
      "5  InChI=1S/C15H15NO5/c1-21-15-12(19)7-11(18)13(1...   \n",
      "6  InChI=1S/C12H11NO4/c1-2-17-12(16)10-6-8-5-7(11...   \n",
      "7  InChI=1S/C28H36O13/c1-12-11-18-28(27(8,41-28)2...   \n",
      "\n",
      "            standard_inchi_key  \n",
      "0  MFRNFCWYPYSFQQ-UHFFFAOYSA-N  \n",
      "4  VDSXZXJEWIWBCG-UHFFFAOYSA-N  \n",
      "5  OPELSESCRGGKAM-UHFFFAOYSA-N  \n",
      "6  CAVYPAYXEMVXMS-UHFFFAOYSA-N  \n",
      "7  NMFRJERNUSBMLR-BOVHOEAXSA-N  \n",
      "(2264749, 4)\n",
      "             chembl_id                                   canonical_smiles  \\\n",
      "1747189  CHEMBL2052012  [3H]c1nc2c([3H])c(Cl)c([3H])c([3H])c2c(N([3H])...   \n",
      "\n",
      "                                            standard_inchi  \\\n",
      "1747189  InChI=1S/C18H26ClN3/c1-4-22(5-2)12-6-7-14(3)21...   \n",
      "\n",
      "                  standard_inchi_key  \n",
      "1747189  WHTVZRBIWZFKQO-BYSMFQJPSA-N  \n"
     ]
    }
   ],
   "source": [
    "print(filtered_df.head())\n",
    "print(filtered_df.shape)\n",
    "\n",
    "max_smi_len = max([len(smi) for smi in filtered_df['canonical_smiles']])\n",
    "print(smiles_df[smiles_df['canonical_smiles'].str.len() == max_smi_len])"
   ]
  },
  {
   "cell_type": "markdown",
   "metadata": {},
   "source": [
    "### save filtered df"
   ]
  },
  {
   "cell_type": "code",
   "execution_count": 31,
   "metadata": {},
   "outputs": [],
   "source": [
    "filtered_df.to_csv(os.path.join(preprocessed_dir, 'filtered_chembl_35.csv'), index=False)"
   ]
  },
  {
   "cell_type": "markdown",
   "metadata": {},
   "source": [
    "ドッキングスコア予測のテストに用いているリガンドを除く"
   ]
  },
  {
   "cell_type": "code",
   "execution_count": 38,
   "metadata": {},
   "outputs": [
    {
     "name": "stdout",
     "output_type": "stream",
     "text": [
      "before process data num: 2264259\n",
      "test data num: 32092\n",
      "after process data num: 2263982\n"
     ]
    }
   ],
   "source": [
    "regression_test_df = pd.read_csv(os.path.join(test_dir, 'test.csv'))\n",
    "\n",
    "filterd_df_data_num = filtered_df.shape[0]\n",
    "print(f\"before process data num: {filterd_df_data_num}\")\n",
    "print(f\"test data num: {regression_test_df.shape[0]}\") # ZINC のデータも含まれているのでこの数値の分だけデータが減るわけではない\n",
    "\n",
    "filtered_df = filtered_df[~filtered_df['canonical_smiles'].isin(regression_test_df['Canonical_SMILES'])]\n",
    "\n",
    "filterd_df_data_num = filtered_df.shape[0]\n",
    "print(f\"after process data num: {filterd_df_data_num}\")"
   ]
  },
  {
   "cell_type": "markdown",
   "metadata": {},
   "source": [
    "### save df"
   ]
  },
  {
   "cell_type": "code",
   "execution_count": 39,
   "metadata": {},
   "outputs": [],
   "source": [
    "filtered_df.to_csv(os.path.join(preprocessed_dir, 'filtered_chembl_35_no_test.csv'), index=False)"
   ]
  }
 ],
 "metadata": {
  "kernelspec": {
   "display_name": "atcvae",
   "language": "python",
   "name": "python3"
  },
  "language_info": {
   "codemirror_mode": {
    "name": "ipython",
    "version": 3
   },
   "file_extension": ".py",
   "mimetype": "text/x-python",
   "name": "python",
   "nbconvert_exporter": "python",
   "pygments_lexer": "ipython3",
   "version": "3.10.15"
  }
 },
 "nbformat": 4,
 "nbformat_minor": 2
}
