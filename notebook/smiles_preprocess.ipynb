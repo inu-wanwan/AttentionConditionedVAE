{
 "cells": [
  {
   "cell_type": "code",
   "execution_count": 9,
   "metadata": {},
   "outputs": [],
   "source": [
    "from rdkit import Chem\n",
    "from rdkit.Chem import AllChem\n",
    "from rdkit.Chem import Draw\n",
    "from rdkit.Chem import Descriptors\n",
    "import pandas as pd\n",
    "import numpy as np\n",
    "import torch\n",
    "import os\n",
    "import yaml\n",
    "from tqdm.notebook import tqdm\n"
   ]
  },
  {
   "cell_type": "code",
   "execution_count": 10,
   "metadata": {},
   "outputs": [],
   "source": [
    "with open('../config/filepath.yml', 'r') as f:\n",
    "    path_config = yaml.safe_load(f)\n",
    "\n",
    "dude_dir = os.path.join('..', path_config['data']['DUD-E'])\n",
    "alphafold_dir = os.path.join('..', path_config['data']['alphafold'])\n",
    "smiles_dir = os.path.join('..', path_config['data']['smiles'])\n",
    "output_dir = os.path.join('..', path_config['data']['output'])\n",
    "hist_dir = os.path.join('..', path_config['data']['hist'])\n",
    "preprocessed_dir = os.path.join('..', path_config['data']['preprocessed'])\n",
    "sample_dir = os.path.join('..', path_config['data']['samples'])\n",
    "test_dir = os.path.join('..', path_config['data']['test'])"
   ]
  },
  {
   "cell_type": "markdown",
   "metadata": {},
   "source": [
    "# filter smiles\n",
    "生成モデルの事前学習に使うためのリガンドファイルを用意するためのスクリプト\n",
    "### read smiles from tsv"
   ]
  },
  {
   "cell_type": "code",
   "execution_count": 11,
   "metadata": {},
   "outputs": [
    {
     "name": "stdout",
     "output_type": "stream",
     "text": [
      "      chembl_id                                   canonical_smiles  \\\n",
      "0  CHEMBL153534                       Cc1cc(-c2csc(N=C(N)N)n2)cn1C   \n",
      "1  CHEMBL440060  CC[C@H](C)[C@H](NC(=O)[C@H](CC(C)C)NC(=O)[C@@H...   \n",
      "2  CHEMBL440245  CCCC[C@@H]1NC(=O)[C@@H](NC(=O)[C@H](CC(C)C)NC(...   \n",
      "3  CHEMBL440249  CC(C)C[C@@H]1NC(=O)CNC(=O)[C@H](c2ccc(O)cc2)NC...   \n",
      "4  CHEMBL405398             Brc1cccc(Nc2ncnc3ccncc23)c1NCCN1CCOCC1   \n",
      "\n",
      "                                      standard_inchi  \\\n",
      "0  InChI=1S/C10H13N5S/c1-6-3-7(4-15(6)2)8-5-16-10...   \n",
      "1  InChI=1S/C123H212N44O34S/c1-19-63(12)96(164-11...   \n",
      "2  InChI=1S/C160H268N50O41/c1-23-27-41-95-134(228...   \n",
      "3  InChI=1S/C124H154ClN21O39/c1-57(2)48-81-112(17...   \n",
      "4  InChI=1S/C19H21BrN6O/c20-15-2-1-3-17(18(15)22-...   \n",
      "\n",
      "            standard_inchi_key  \n",
      "0  MFRNFCWYPYSFQQ-UHFFFAOYSA-N  \n",
      "1  RSEQNZQKBMRQNM-VRGFNVLHSA-N  \n",
      "2  FTKBTEIKPOYCEX-OZSLQWTKSA-N  \n",
      "3  UYSXXKGACMHPIM-KFGDMSGDSA-N  \n",
      "4  VDSXZXJEWIWBCG-UHFFFAOYSA-N  \n",
      "(2474590, 4)\n"
     ]
    }
   ],
   "source": [
    "smiles_file = os.path.join(smiles_dir, 'chembl_35.tsv')\n",
    "\n",
    "smiles_df = pd.read_csv(smiles_file, sep='\\t')\n",
    "\n",
    "print(smiles_df.head())\n",
    "print(smiles_df.shape)"
   ]
  },
  {
   "cell_type": "markdown",
   "metadata": {},
   "source": [
    "### preprocess and filter smiles \n",
    "やること\n",
    "1. 複合体の場合、最も分子量の大きいものを対象リガンドとして扱う\n",
    "2. リピンスキーの法則にならって分子量 600 以上の化合物をフィルター\n",
    "3. 重複を排除"
   ]
  },
  {
   "cell_type": "code",
   "execution_count": 12,
   "metadata": {},
   "outputs": [],
   "source": [
    "def extract_higher_MW(s_list: list) -> list:\n",
    "    out = []\n",
    "    for s in s_list:\n",
    "        smis = s.split('.')\n",
    "        mols = []\n",
    "        for smi in smis:\n",
    "            mol = Chem.MolFromSmiles(smi)\n",
    "            if mol is not None:\n",
    "                mols.append(mol)\n",
    "\n",
    "        if len(mols) == 0:\n",
    "            continue\n",
    "\n",
    "        Mws = [Descriptors.MolWt(mol) for mol in mols]\n",
    "        max_Mw_idx = Mws.index(max(Mws))\n",
    "\n",
    "        # 分子量600以上のものを排除\n",
    "        if Mws[max_Mw_idx] > 600:\n",
    "            continue\n",
    "        \n",
    "        out.append(Chem.MolToSmiles(mols[max_Mw_idx]))\n",
    "    return out\n",
    "\n",
    "def remove_dup(smis: list) -> list:\n",
    "    smis = [Chem.MolToSmiles(Chem.MolFromSmiles(smi)) for smi in smis]\n",
    "    smis = list(set(smis))\n",
    "    return smis\n",
    "\n",
    "def process_and_filter_smiles(df: pd.DataFrame, smiles_col: str) -> pd.DataFrame:\n",
    "    tqdm.pandas(desc=\"Processing SMILES\")\n",
    "\n",
    "    # smiles列を処理し、有効な結果のみを保持\n",
    "    def process_smiles(smiles):\n",
    "        processed = remove_dup(extract_higher_MW([smiles]))\n",
    "        return \".\".join(processed) if processed else None\n",
    "\n",
    "    df[smiles_col] = df[smiles_col].progress_apply(process_smiles)\n",
    "    \n",
    "    # smiles列がNoneまたは空の行を削除\n",
    "    df = df[df[smiles_col].notna() & (df[smiles_col] != \"\")]\n",
    "    \n",
    "    return df"
   ]
  },
  {
   "cell_type": "code",
   "execution_count": 13,
   "metadata": {},
   "outputs": [
    {
     "ename": "ImportError",
     "evalue": "IProgress not found. Please update jupyter and ipywidgets. See https://ipywidgets.readthedocs.io/en/stable/user_install.html",
     "output_type": "error",
     "traceback": [
      "\u001b[0;31m---------------------------------------------------------------------------\u001b[0m",
      "\u001b[0;31mImportError\u001b[0m                               Traceback (most recent call last)",
      "Cell \u001b[0;32mIn[13], line 1\u001b[0m\n\u001b[0;32m----> 1\u001b[0m filtered_df \u001b[38;5;241m=\u001b[39m \u001b[43mprocess_and_filter_smiles\u001b[49m\u001b[43m(\u001b[49m\u001b[43msmiles_df\u001b[49m\u001b[43m,\u001b[49m\u001b[43m \u001b[49m\u001b[38;5;124;43m'\u001b[39;49m\u001b[38;5;124;43mcanonical_smiles\u001b[39;49m\u001b[38;5;124;43m'\u001b[39;49m\u001b[43m)\u001b[49m\n",
      "Cell \u001b[0;32mIn[12], line 37\u001b[0m, in \u001b[0;36mprocess_and_filter_smiles\u001b[0;34m(df, smiles_col)\u001b[0m\n\u001b[1;32m     34\u001b[0m     processed \u001b[38;5;241m=\u001b[39m remove_dup(extract_higher_MW([smiles]))\n\u001b[1;32m     35\u001b[0m     \u001b[38;5;28;01mreturn\u001b[39;00m \u001b[38;5;124m\"\u001b[39m\u001b[38;5;124m.\u001b[39m\u001b[38;5;124m\"\u001b[39m\u001b[38;5;241m.\u001b[39mjoin(processed) \u001b[38;5;28;01mif\u001b[39;00m processed \u001b[38;5;28;01melse\u001b[39;00m \u001b[38;5;28;01mNone\u001b[39;00m\n\u001b[0;32m---> 37\u001b[0m df[smiles_col] \u001b[38;5;241m=\u001b[39m \u001b[43mdf\u001b[49m\u001b[43m[\u001b[49m\u001b[43msmiles_col\u001b[49m\u001b[43m]\u001b[49m\u001b[38;5;241;43m.\u001b[39;49m\u001b[43mprogress_apply\u001b[49m\u001b[43m(\u001b[49m\u001b[43mprocess_smiles\u001b[49m\u001b[43m)\u001b[49m\n\u001b[1;32m     39\u001b[0m \u001b[38;5;66;03m# smiles列がNoneまたは空の行を削除\u001b[39;00m\n\u001b[1;32m     40\u001b[0m df \u001b[38;5;241m=\u001b[39m df[df[smiles_col]\u001b[38;5;241m.\u001b[39mnotna() \u001b[38;5;241m&\u001b[39m (df[smiles_col] \u001b[38;5;241m!=\u001b[39m \u001b[38;5;124m\"\u001b[39m\u001b[38;5;124m\"\u001b[39m)]\n",
      "File \u001b[0;32m~/miniconda3/envs/atcvae/lib/python3.10/site-packages/tqdm/std.py:885\u001b[0m, in \u001b[0;36mtqdm.pandas.<locals>.inner_generator.<locals>.inner\u001b[0;34m(df, func, *args, **kwargs)\u001b[0m\n\u001b[1;32m    883\u001b[0m     deprecated_t[\u001b[38;5;241m0\u001b[39m] \u001b[38;5;241m=\u001b[39m \u001b[38;5;28;01mNone\u001b[39;00m\n\u001b[1;32m    884\u001b[0m \u001b[38;5;28;01melse\u001b[39;00m:\n\u001b[0;32m--> 885\u001b[0m     t \u001b[38;5;241m=\u001b[39m \u001b[38;5;28;43mcls\u001b[39;49m\u001b[43m(\u001b[49m\u001b[43mtotal\u001b[49m\u001b[38;5;241;43m=\u001b[39;49m\u001b[43mtotal\u001b[49m\u001b[43m,\u001b[49m\u001b[43m \u001b[49m\u001b[38;5;241;43m*\u001b[39;49m\u001b[38;5;241;43m*\u001b[39;49m\u001b[43mtqdm_kwargs\u001b[49m\u001b[43m)\u001b[49m\n\u001b[1;32m    887\u001b[0m \u001b[38;5;28;01mif\u001b[39;00m \u001b[38;5;28mlen\u001b[39m(args) \u001b[38;5;241m>\u001b[39m \u001b[38;5;241m0\u001b[39m:\n\u001b[1;32m    888\u001b[0m     \u001b[38;5;66;03m# *args intentionally not supported (see #244, #299)\u001b[39;00m\n\u001b[1;32m    889\u001b[0m     TqdmDeprecationWarning(\n\u001b[1;32m    890\u001b[0m         \u001b[38;5;124m\"\u001b[39m\u001b[38;5;124mExcept func, normal arguments are intentionally\u001b[39m\u001b[38;5;124m\"\u001b[39m \u001b[38;5;241m+\u001b[39m\n\u001b[1;32m    891\u001b[0m         \u001b[38;5;124m\"\u001b[39m\u001b[38;5;124m not supported by\u001b[39m\u001b[38;5;124m\"\u001b[39m \u001b[38;5;241m+\u001b[39m\n\u001b[1;32m    892\u001b[0m         \u001b[38;5;124m\"\u001b[39m\u001b[38;5;124m `(DataFrame|Series|GroupBy).progress_apply`.\u001b[39m\u001b[38;5;124m\"\u001b[39m \u001b[38;5;241m+\u001b[39m\n\u001b[1;32m    893\u001b[0m         \u001b[38;5;124m\"\u001b[39m\u001b[38;5;124m Use keyword arguments instead.\u001b[39m\u001b[38;5;124m\"\u001b[39m,\n\u001b[1;32m    894\u001b[0m         fp_write\u001b[38;5;241m=\u001b[39m\u001b[38;5;28mgetattr\u001b[39m(t\u001b[38;5;241m.\u001b[39mfp, \u001b[38;5;124m'\u001b[39m\u001b[38;5;124mwrite\u001b[39m\u001b[38;5;124m'\u001b[39m, sys\u001b[38;5;241m.\u001b[39mstderr\u001b[38;5;241m.\u001b[39mwrite))\n",
      "File \u001b[0;32m~/miniconda3/envs/atcvae/lib/python3.10/site-packages/tqdm/notebook.py:234\u001b[0m, in \u001b[0;36mtqdm_notebook.__init__\u001b[0;34m(self, *args, **kwargs)\u001b[0m\n\u001b[1;32m    232\u001b[0m unit_scale \u001b[38;5;241m=\u001b[39m \u001b[38;5;241m1\u001b[39m \u001b[38;5;28;01mif\u001b[39;00m \u001b[38;5;28mself\u001b[39m\u001b[38;5;241m.\u001b[39munit_scale \u001b[38;5;129;01mis\u001b[39;00m \u001b[38;5;28;01mTrue\u001b[39;00m \u001b[38;5;28;01melse\u001b[39;00m \u001b[38;5;28mself\u001b[39m\u001b[38;5;241m.\u001b[39munit_scale \u001b[38;5;129;01mor\u001b[39;00m \u001b[38;5;241m1\u001b[39m\n\u001b[1;32m    233\u001b[0m total \u001b[38;5;241m=\u001b[39m \u001b[38;5;28mself\u001b[39m\u001b[38;5;241m.\u001b[39mtotal \u001b[38;5;241m*\u001b[39m unit_scale \u001b[38;5;28;01mif\u001b[39;00m \u001b[38;5;28mself\u001b[39m\u001b[38;5;241m.\u001b[39mtotal \u001b[38;5;28;01melse\u001b[39;00m \u001b[38;5;28mself\u001b[39m\u001b[38;5;241m.\u001b[39mtotal\n\u001b[0;32m--> 234\u001b[0m \u001b[38;5;28mself\u001b[39m\u001b[38;5;241m.\u001b[39mcontainer \u001b[38;5;241m=\u001b[39m \u001b[38;5;28;43mself\u001b[39;49m\u001b[38;5;241;43m.\u001b[39;49m\u001b[43mstatus_printer\u001b[49m\u001b[43m(\u001b[49m\u001b[38;5;28;43mself\u001b[39;49m\u001b[38;5;241;43m.\u001b[39;49m\u001b[43mfp\u001b[49m\u001b[43m,\u001b[49m\u001b[43m \u001b[49m\u001b[43mtotal\u001b[49m\u001b[43m,\u001b[49m\u001b[43m \u001b[49m\u001b[38;5;28;43mself\u001b[39;49m\u001b[38;5;241;43m.\u001b[39;49m\u001b[43mdesc\u001b[49m\u001b[43m,\u001b[49m\u001b[43m \u001b[49m\u001b[38;5;28;43mself\u001b[39;49m\u001b[38;5;241;43m.\u001b[39;49m\u001b[43mncols\u001b[49m\u001b[43m)\u001b[49m\n\u001b[1;32m    235\u001b[0m \u001b[38;5;28mself\u001b[39m\u001b[38;5;241m.\u001b[39mcontainer\u001b[38;5;241m.\u001b[39mpbar \u001b[38;5;241m=\u001b[39m proxy(\u001b[38;5;28mself\u001b[39m)\n\u001b[1;32m    236\u001b[0m \u001b[38;5;28mself\u001b[39m\u001b[38;5;241m.\u001b[39mdisplayed \u001b[38;5;241m=\u001b[39m \u001b[38;5;28;01mFalse\u001b[39;00m\n",
      "File \u001b[0;32m~/miniconda3/envs/atcvae/lib/python3.10/site-packages/tqdm/notebook.py:108\u001b[0m, in \u001b[0;36mtqdm_notebook.status_printer\u001b[0;34m(_, total, desc, ncols)\u001b[0m\n\u001b[1;32m     99\u001b[0m \u001b[38;5;66;03m# Fallback to text bar if there's no total\u001b[39;00m\n\u001b[1;32m    100\u001b[0m \u001b[38;5;66;03m# DEPRECATED: replaced with an 'info' style bar\u001b[39;00m\n\u001b[1;32m    101\u001b[0m \u001b[38;5;66;03m# if not total:\u001b[39;00m\n\u001b[0;32m   (...)\u001b[0m\n\u001b[1;32m    105\u001b[0m \n\u001b[1;32m    106\u001b[0m \u001b[38;5;66;03m# Prepare IPython progress bar\u001b[39;00m\n\u001b[1;32m    107\u001b[0m \u001b[38;5;28;01mif\u001b[39;00m IProgress \u001b[38;5;129;01mis\u001b[39;00m \u001b[38;5;28;01mNone\u001b[39;00m:  \u001b[38;5;66;03m# #187 #451 #558 #872\u001b[39;00m\n\u001b[0;32m--> 108\u001b[0m     \u001b[38;5;28;01mraise\u001b[39;00m \u001b[38;5;167;01mImportError\u001b[39;00m(WARN_NOIPYW)\n\u001b[1;32m    109\u001b[0m \u001b[38;5;28;01mif\u001b[39;00m total:\n\u001b[1;32m    110\u001b[0m     pbar \u001b[38;5;241m=\u001b[39m IProgress(\u001b[38;5;28mmin\u001b[39m\u001b[38;5;241m=\u001b[39m\u001b[38;5;241m0\u001b[39m, \u001b[38;5;28mmax\u001b[39m\u001b[38;5;241m=\u001b[39mtotal)\n",
      "\u001b[0;31mImportError\u001b[0m: IProgress not found. Please update jupyter and ipywidgets. See https://ipywidgets.readthedocs.io/en/stable/user_install.html"
     ]
    }
   ],
   "source": [
    "filtered_df = process_and_filter_smiles(smiles_df, 'canonical_smiles')"
   ]
  },
  {
   "cell_type": "code",
   "execution_count": 32,
   "metadata": {},
   "outputs": [
    {
     "name": "stdout",
     "output_type": "stream",
     "text": [
      "      chembl_id                                   canonical_smiles  \\\n",
      "0  CHEMBL153534                       Cc1cc(-c2csc(N=C(N)N)n2)cn1C   \n",
      "4  CHEMBL405398             Brc1cccc(Nc2ncnc3ccncc23)c1NCCN1CCOCC1   \n",
      "5  CHEMBL503634               COc1c(O)cc(O)c(C(=N)Cc2ccc(O)cc2)c1O   \n",
      "6  CHEMBL503643                   CCOC(=O)c1cc2cc(C(=O)O)ccc2[nH]1   \n",
      "7  CHEMBL503865  CC(=O)O[C@@H]1[C@@H](OC(C)=O)/C(C)=C\\[C@@H]2OC...   \n",
      "\n",
      "                                      standard_inchi  \\\n",
      "0  InChI=1S/C10H13N5S/c1-6-3-7(4-15(6)2)8-5-16-10...   \n",
      "4  InChI=1S/C19H21BrN6O/c20-15-2-1-3-17(18(15)22-...   \n",
      "5  InChI=1S/C15H15NO5/c1-21-15-12(19)7-11(18)13(1...   \n",
      "6  InChI=1S/C12H11NO4/c1-2-17-12(16)10-6-8-5-7(11...   \n",
      "7  InChI=1S/C28H36O13/c1-12-11-18-28(27(8,41-28)2...   \n",
      "\n",
      "            standard_inchi_key  \n",
      "0  MFRNFCWYPYSFQQ-UHFFFAOYSA-N  \n",
      "4  VDSXZXJEWIWBCG-UHFFFAOYSA-N  \n",
      "5  OPELSESCRGGKAM-UHFFFAOYSA-N  \n",
      "6  CAVYPAYXEMVXMS-UHFFFAOYSA-N  \n",
      "7  NMFRJERNUSBMLR-BOVHOEAXSA-N  \n",
      "(2264749, 4)\n",
      "             chembl_id                                   canonical_smiles  \\\n",
      "1747189  CHEMBL2052012  [3H]c1nc2c([3H])c(Cl)c([3H])c([3H])c2c(N([3H])...   \n",
      "\n",
      "                                            standard_inchi  \\\n",
      "1747189  InChI=1S/C18H26ClN3/c1-4-22(5-2)12-6-7-14(3)21...   \n",
      "\n",
      "                  standard_inchi_key  \n",
      "1747189  WHTVZRBIWZFKQO-BYSMFQJPSA-N  \n"
     ]
    }
   ],
   "source": [
    "print(filtered_df.head())\n",
    "print(filtered_df.shape)\n",
    "\n",
    "max_smi_len = max([len(smi) for smi in filtered_df['canonical_smiles']])\n",
    "print(smiles_df[smiles_df['canonical_smiles'].str.len() == max_smi_len])"
   ]
  },
  {
   "cell_type": "markdown",
   "metadata": {},
   "source": [
    "### save filtered df"
   ]
  },
  {
   "cell_type": "code",
   "execution_count": 31,
   "metadata": {},
   "outputs": [],
   "source": [
    "filtered_df.to_csv(os.path.join(preprocessed_dir, 'filtered_chembl_35.csv'), index=False)"
   ]
  },
  {
   "cell_type": "markdown",
   "metadata": {},
   "source": [
    "ドッキングスコア予測のテストに用いているリガンドを除く"
   ]
  },
  {
   "cell_type": "code",
   "execution_count": 38,
   "metadata": {},
   "outputs": [
    {
     "name": "stdout",
     "output_type": "stream",
     "text": [
      "before process data num: 2264259\n",
      "test data num: 32092\n",
      "after process data num: 2263982\n"
     ]
    }
   ],
   "source": [
    "regression_test_df = pd.read_csv(os.path.join(test_dir, 'test.csv'))\n",
    "\n",
    "filterd_df_data_num = filtered_df.shape[0]\n",
    "print(f\"before process data num: {filterd_df_data_num}\")\n",
    "print(f\"test data num: {regression_test_df.shape[0]}\") # ZINC のデータも含まれているのでこの数値の分だけデータが減るわけではない\n",
    "\n",
    "filtered_df = filtered_df[~filtered_df['canonical_smiles'].isin(regression_test_df['Canonical_SMILES'])]\n",
    "\n",
    "filterd_df_data_num = filtered_df.shape[0]\n",
    "print(f\"after process data num: {filterd_df_data_num}\")"
   ]
  },
  {
   "cell_type": "markdown",
   "metadata": {},
   "source": [
    "### save df"
   ]
  },
  {
   "cell_type": "code",
   "execution_count": 39,
   "metadata": {},
   "outputs": [],
   "source": [
    "filtered_df.to_csv(os.path.join(preprocessed_dir, 'filtered_chembl_35_no_test.csv'), index=False)"
   ]
  },
  {
   "cell_type": "markdown",
   "metadata": {},
   "source": [
    "dataset_final.csv を前処理"
   ]
  },
  {
   "cell_type": "code",
   "execution_count": 6,
   "metadata": {},
   "outputs": [
    {
     "ename": "ImportError",
     "evalue": "IProgress not found. Please update jupyter and ipywidgets. See https://ipywidgets.readthedocs.io/en/stable/user_install.html",
     "output_type": "error",
     "traceback": [
      "\u001b[0;31m---------------------------------------------------------------------------\u001b[0m",
      "\u001b[0;31mImportError\u001b[0m                               Traceback (most recent call last)",
      "Cell \u001b[0;32mIn[6], line 4\u001b[0m\n\u001b[1;32m      1\u001b[0m dataset_final_file \u001b[38;5;241m=\u001b[39m os\u001b[38;5;241m.\u001b[39mpath\u001b[38;5;241m.\u001b[39mjoin(preprocessed_dir, \u001b[38;5;124m'\u001b[39m\u001b[38;5;124mdataset_final.csv\u001b[39m\u001b[38;5;124m'\u001b[39m)\n\u001b[1;32m      2\u001b[0m dataset_final_df \u001b[38;5;241m=\u001b[39m pd\u001b[38;5;241m.\u001b[39mread_csv(dataset_final_file)\n\u001b[0;32m----> 4\u001b[0m filterd_df \u001b[38;5;241m=\u001b[39m \u001b[43mprocess_and_filter_smiles\u001b[49m\u001b[43m(\u001b[49m\u001b[43mdataset_final_df\u001b[49m\u001b[43m,\u001b[49m\u001b[43m \u001b[49m\u001b[38;5;124;43m'\u001b[39;49m\u001b[38;5;124;43mCanonical_SMILES\u001b[39;49m\u001b[38;5;124;43m'\u001b[39;49m\u001b[43m)\u001b[49m\n\u001b[1;32m      5\u001b[0m filterd_df\u001b[38;5;241m.\u001b[39mto_csv(os\u001b[38;5;241m.\u001b[39mpath\u001b[38;5;241m.\u001b[39mjoin(preprocessed_dir, \u001b[38;5;124m'\u001b[39m\u001b[38;5;124mdataset_final_filtered.csv\u001b[39m\u001b[38;5;124m'\u001b[39m), index\u001b[38;5;241m=\u001b[39m\u001b[38;5;28;01mFalse\u001b[39;00m)\n",
      "Cell \u001b[0;32mIn[4], line 37\u001b[0m, in \u001b[0;36mprocess_and_filter_smiles\u001b[0;34m(df, smiles_col)\u001b[0m\n\u001b[1;32m     34\u001b[0m     processed \u001b[38;5;241m=\u001b[39m remove_dup(extract_higher_MW([smiles]))\n\u001b[1;32m     35\u001b[0m     \u001b[38;5;28;01mreturn\u001b[39;00m \u001b[38;5;124m\"\u001b[39m\u001b[38;5;124m.\u001b[39m\u001b[38;5;124m\"\u001b[39m\u001b[38;5;241m.\u001b[39mjoin(processed) \u001b[38;5;28;01mif\u001b[39;00m processed \u001b[38;5;28;01melse\u001b[39;00m \u001b[38;5;28;01mNone\u001b[39;00m\n\u001b[0;32m---> 37\u001b[0m df[smiles_col] \u001b[38;5;241m=\u001b[39m \u001b[43mdf\u001b[49m\u001b[43m[\u001b[49m\u001b[43msmiles_col\u001b[49m\u001b[43m]\u001b[49m\u001b[38;5;241;43m.\u001b[39;49m\u001b[43mprogress_apply\u001b[49m\u001b[43m(\u001b[49m\u001b[43mprocess_smiles\u001b[49m\u001b[43m)\u001b[49m\n\u001b[1;32m     39\u001b[0m \u001b[38;5;66;03m# smiles列がNoneまたは空の行を削除\u001b[39;00m\n\u001b[1;32m     40\u001b[0m df \u001b[38;5;241m=\u001b[39m df[df[smiles_col]\u001b[38;5;241m.\u001b[39mnotna() \u001b[38;5;241m&\u001b[39m (df[smiles_col] \u001b[38;5;241m!=\u001b[39m \u001b[38;5;124m\"\u001b[39m\u001b[38;5;124m\"\u001b[39m)]\n",
      "File \u001b[0;32m~/miniconda3/envs/atcvae/lib/python3.10/site-packages/tqdm/std.py:885\u001b[0m, in \u001b[0;36mtqdm.pandas.<locals>.inner_generator.<locals>.inner\u001b[0;34m(df, func, *args, **kwargs)\u001b[0m\n\u001b[1;32m    883\u001b[0m     deprecated_t[\u001b[38;5;241m0\u001b[39m] \u001b[38;5;241m=\u001b[39m \u001b[38;5;28;01mNone\u001b[39;00m\n\u001b[1;32m    884\u001b[0m \u001b[38;5;28;01melse\u001b[39;00m:\n\u001b[0;32m--> 885\u001b[0m     t \u001b[38;5;241m=\u001b[39m \u001b[38;5;28;43mcls\u001b[39;49m\u001b[43m(\u001b[49m\u001b[43mtotal\u001b[49m\u001b[38;5;241;43m=\u001b[39;49m\u001b[43mtotal\u001b[49m\u001b[43m,\u001b[49m\u001b[43m \u001b[49m\u001b[38;5;241;43m*\u001b[39;49m\u001b[38;5;241;43m*\u001b[39;49m\u001b[43mtqdm_kwargs\u001b[49m\u001b[43m)\u001b[49m\n\u001b[1;32m    887\u001b[0m \u001b[38;5;28;01mif\u001b[39;00m \u001b[38;5;28mlen\u001b[39m(args) \u001b[38;5;241m>\u001b[39m \u001b[38;5;241m0\u001b[39m:\n\u001b[1;32m    888\u001b[0m     \u001b[38;5;66;03m# *args intentionally not supported (see #244, #299)\u001b[39;00m\n\u001b[1;32m    889\u001b[0m     TqdmDeprecationWarning(\n\u001b[1;32m    890\u001b[0m         \u001b[38;5;124m\"\u001b[39m\u001b[38;5;124mExcept func, normal arguments are intentionally\u001b[39m\u001b[38;5;124m\"\u001b[39m \u001b[38;5;241m+\u001b[39m\n\u001b[1;32m    891\u001b[0m         \u001b[38;5;124m\"\u001b[39m\u001b[38;5;124m not supported by\u001b[39m\u001b[38;5;124m\"\u001b[39m \u001b[38;5;241m+\u001b[39m\n\u001b[1;32m    892\u001b[0m         \u001b[38;5;124m\"\u001b[39m\u001b[38;5;124m `(DataFrame|Series|GroupBy).progress_apply`.\u001b[39m\u001b[38;5;124m\"\u001b[39m \u001b[38;5;241m+\u001b[39m\n\u001b[1;32m    893\u001b[0m         \u001b[38;5;124m\"\u001b[39m\u001b[38;5;124m Use keyword arguments instead.\u001b[39m\u001b[38;5;124m\"\u001b[39m,\n\u001b[1;32m    894\u001b[0m         fp_write\u001b[38;5;241m=\u001b[39m\u001b[38;5;28mgetattr\u001b[39m(t\u001b[38;5;241m.\u001b[39mfp, \u001b[38;5;124m'\u001b[39m\u001b[38;5;124mwrite\u001b[39m\u001b[38;5;124m'\u001b[39m, sys\u001b[38;5;241m.\u001b[39mstderr\u001b[38;5;241m.\u001b[39mwrite))\n",
      "File \u001b[0;32m~/miniconda3/envs/atcvae/lib/python3.10/site-packages/tqdm/notebook.py:234\u001b[0m, in \u001b[0;36mtqdm_notebook.__init__\u001b[0;34m(self, *args, **kwargs)\u001b[0m\n\u001b[1;32m    232\u001b[0m unit_scale \u001b[38;5;241m=\u001b[39m \u001b[38;5;241m1\u001b[39m \u001b[38;5;28;01mif\u001b[39;00m \u001b[38;5;28mself\u001b[39m\u001b[38;5;241m.\u001b[39munit_scale \u001b[38;5;129;01mis\u001b[39;00m \u001b[38;5;28;01mTrue\u001b[39;00m \u001b[38;5;28;01melse\u001b[39;00m \u001b[38;5;28mself\u001b[39m\u001b[38;5;241m.\u001b[39munit_scale \u001b[38;5;129;01mor\u001b[39;00m \u001b[38;5;241m1\u001b[39m\n\u001b[1;32m    233\u001b[0m total \u001b[38;5;241m=\u001b[39m \u001b[38;5;28mself\u001b[39m\u001b[38;5;241m.\u001b[39mtotal \u001b[38;5;241m*\u001b[39m unit_scale \u001b[38;5;28;01mif\u001b[39;00m \u001b[38;5;28mself\u001b[39m\u001b[38;5;241m.\u001b[39mtotal \u001b[38;5;28;01melse\u001b[39;00m \u001b[38;5;28mself\u001b[39m\u001b[38;5;241m.\u001b[39mtotal\n\u001b[0;32m--> 234\u001b[0m \u001b[38;5;28mself\u001b[39m\u001b[38;5;241m.\u001b[39mcontainer \u001b[38;5;241m=\u001b[39m \u001b[38;5;28;43mself\u001b[39;49m\u001b[38;5;241;43m.\u001b[39;49m\u001b[43mstatus_printer\u001b[49m\u001b[43m(\u001b[49m\u001b[38;5;28;43mself\u001b[39;49m\u001b[38;5;241;43m.\u001b[39;49m\u001b[43mfp\u001b[49m\u001b[43m,\u001b[49m\u001b[43m \u001b[49m\u001b[43mtotal\u001b[49m\u001b[43m,\u001b[49m\u001b[43m \u001b[49m\u001b[38;5;28;43mself\u001b[39;49m\u001b[38;5;241;43m.\u001b[39;49m\u001b[43mdesc\u001b[49m\u001b[43m,\u001b[49m\u001b[43m \u001b[49m\u001b[38;5;28;43mself\u001b[39;49m\u001b[38;5;241;43m.\u001b[39;49m\u001b[43mncols\u001b[49m\u001b[43m)\u001b[49m\n\u001b[1;32m    235\u001b[0m \u001b[38;5;28mself\u001b[39m\u001b[38;5;241m.\u001b[39mcontainer\u001b[38;5;241m.\u001b[39mpbar \u001b[38;5;241m=\u001b[39m proxy(\u001b[38;5;28mself\u001b[39m)\n\u001b[1;32m    236\u001b[0m \u001b[38;5;28mself\u001b[39m\u001b[38;5;241m.\u001b[39mdisplayed \u001b[38;5;241m=\u001b[39m \u001b[38;5;28;01mFalse\u001b[39;00m\n",
      "File \u001b[0;32m~/miniconda3/envs/atcvae/lib/python3.10/site-packages/tqdm/notebook.py:108\u001b[0m, in \u001b[0;36mtqdm_notebook.status_printer\u001b[0;34m(_, total, desc, ncols)\u001b[0m\n\u001b[1;32m     99\u001b[0m \u001b[38;5;66;03m# Fallback to text bar if there's no total\u001b[39;00m\n\u001b[1;32m    100\u001b[0m \u001b[38;5;66;03m# DEPRECATED: replaced with an 'info' style bar\u001b[39;00m\n\u001b[1;32m    101\u001b[0m \u001b[38;5;66;03m# if not total:\u001b[39;00m\n\u001b[0;32m   (...)\u001b[0m\n\u001b[1;32m    105\u001b[0m \n\u001b[1;32m    106\u001b[0m \u001b[38;5;66;03m# Prepare IPython progress bar\u001b[39;00m\n\u001b[1;32m    107\u001b[0m \u001b[38;5;28;01mif\u001b[39;00m IProgress \u001b[38;5;129;01mis\u001b[39;00m \u001b[38;5;28;01mNone\u001b[39;00m:  \u001b[38;5;66;03m# #187 #451 #558 #872\u001b[39;00m\n\u001b[0;32m--> 108\u001b[0m     \u001b[38;5;28;01mraise\u001b[39;00m \u001b[38;5;167;01mImportError\u001b[39;00m(WARN_NOIPYW)\n\u001b[1;32m    109\u001b[0m \u001b[38;5;28;01mif\u001b[39;00m total:\n\u001b[1;32m    110\u001b[0m     pbar \u001b[38;5;241m=\u001b[39m IProgress(\u001b[38;5;28mmin\u001b[39m\u001b[38;5;241m=\u001b[39m\u001b[38;5;241m0\u001b[39m, \u001b[38;5;28mmax\u001b[39m\u001b[38;5;241m=\u001b[39mtotal)\n",
      "\u001b[0;31mImportError\u001b[0m: IProgress not found. Please update jupyter and ipywidgets. See https://ipywidgets.readthedocs.io/en/stable/user_install.html"
     ]
    }
   ],
   "source": [
    "dataset_final_file = os.path.join(preprocessed_dir, 'dataset_final.csv')\n",
    "dataset_final_df = pd.read_csv(dataset_final_file)\n",
    "\n",
    "filterd_df = process_and_filter_smiles(dataset_final_df, 'Canonical_SMILES')\n",
    "filterd_df.to_csv(os.path.join(preprocessed_dir, 'dataset_final_filtered.csv'), index=False)"
   ]
  }
 ],
 "metadata": {
  "kernelspec": {
   "display_name": "atcvae",
   "language": "python",
   "name": "python3"
  },
  "language_info": {
   "codemirror_mode": {
    "name": "ipython",
    "version": 3
   },
   "file_extension": ".py",
   "mimetype": "text/x-python",
   "name": "python",
   "nbconvert_exporter": "python",
   "pygments_lexer": "ipython3",
   "version": "3.10.16"
  }
 },
 "nbformat": 4,
 "nbformat_minor": 2
}
